{
  "nbformat": 4,
  "nbformat_minor": 0,
  "metadata": {
    "colab": {
      "provenance": [],
      "toc_visible": true,
      "include_colab_link": true
    },
    "kernelspec": {
      "name": "python3",
      "display_name": "Python 3"
    },
    "language_info": {
      "name": "python"
    }
  },
  "cells": [
    {
      "cell_type": "markdown",
      "metadata": {
        "id": "view-in-github",
        "colab_type": "text"
      },
      "source": [
        "<a href=\"https://colab.research.google.com/github/Kimutua/LLM_Observability/blob/main/Agents_workshop_part1.ipynb\" target=\"_parent\"><img src=\"https://colab.research.google.com/assets/colab-badge.svg\" alt=\"Open In Colab\"/></a>"
      ]
    },
    {
      "cell_type": "code",
      "source": [
        "from google.colab import drive\n",
        "drive.mount('/content/drive', force_remount=True)"
      ],
      "metadata": {
        "colab": {
          "base_uri": "https://localhost:8080/"
        },
        "id": "PMhN3yKnnM8e",
        "outputId": "f223f9bd-2622-4b5e-d3ad-6f69ee40d42a"
      },
      "execution_count": 1,
      "outputs": [
        {
          "output_type": "stream",
          "name": "stdout",
          "text": [
            "Mounted at /content/drive\n"
          ]
        }
      ]
    },
    {
      "cell_type": "code",
      "source": [],
      "metadata": {
        "id": "bmkLuxYWlSMp"
      },
      "execution_count": 1,
      "outputs": []
    },
    {
      "cell_type": "code",
      "source": [
        "#Install and Import Required Modules,  LLMs and Agent Tools\n",
        "!pip -q install langchain huggingface_hub openai google-search-results"
      ],
      "metadata": {
        "id": "C36YPg6id9mq",
        "colab": {
          "base_uri": "https://localhost:8080/"
        },
        "outputId": "371decde-e9e6-4909-ec9c-4fd7a84eb224"
      },
      "execution_count": 2,
      "outputs": [
        {
          "output_type": "stream",
          "name": "stdout",
          "text": [
            "\u001b[2K     \u001b[90m━━━━━━━━━━━━━━━━━━━━━━━━━━━━━━━━━━━━━━━━\u001b[0m \u001b[32m809.1/809.1 kB\u001b[0m \u001b[31m14.7 MB/s\u001b[0m eta \u001b[36m0:00:00\u001b[0m\n",
            "\u001b[2K     \u001b[90m━━━━━━━━━━━━━━━━━━━━━━━━━━━━━━━━━━━━━━━━\u001b[0m \u001b[32m257.5/257.5 kB\u001b[0m \u001b[31m25.1 MB/s\u001b[0m eta \u001b[36m0:00:00\u001b[0m\n",
            "\u001b[?25h  Preparing metadata (setup.py) ... \u001b[?25l\u001b[?25hdone\n",
            "\u001b[2K     \u001b[90m━━━━━━━━━━━━━━━━━━━━━━━━━━━━━━━━━━━━━━━━\u001b[0m \u001b[32m1.8/1.8 MB\u001b[0m \u001b[31m45.9 MB/s\u001b[0m eta \u001b[36m0:00:00\u001b[0m\n",
            "\u001b[2K     \u001b[90m━━━━━━━━━━━━━━━━━━━━━━━━━━━━━━━━━━━━━━━━\u001b[0m \u001b[32m260.9/260.9 kB\u001b[0m \u001b[31m28.5 MB/s\u001b[0m eta \u001b[36m0:00:00\u001b[0m\n",
            "\u001b[2K     \u001b[90m━━━━━━━━━━━━━━━━━━━━━━━━━━━━━━━━━━━━━━━━\u001b[0m \u001b[32m68.0/68.0 kB\u001b[0m \u001b[31m9.3 MB/s\u001b[0m eta \u001b[36m0:00:00\u001b[0m\n",
            "\u001b[2K     \u001b[90m━━━━━━━━━━━━━━━━━━━━━━━━━━━━━━━━━━━━━━━━\u001b[0m \u001b[32m75.6/75.6 kB\u001b[0m \u001b[31m10.5 MB/s\u001b[0m eta \u001b[36m0:00:00\u001b[0m\n",
            "\u001b[2K     \u001b[90m━━━━━━━━━━━━━━━━━━━━━━━━━━━━━━━━━━━━━━━━\u001b[0m \u001b[32m49.4/49.4 kB\u001b[0m \u001b[31m6.5 MB/s\u001b[0m eta \u001b[36m0:00:00\u001b[0m\n",
            "\u001b[2K     \u001b[90m━━━━━━━━━━━━━━━━━━━━━━━━━━━━━━━━━━━━━━━━\u001b[0m \u001b[32m77.8/77.8 kB\u001b[0m \u001b[31m9.0 MB/s\u001b[0m eta \u001b[36m0:00:00\u001b[0m\n",
            "\u001b[2K     \u001b[90m━━━━━━━━━━━━━━━━━━━━━━━━━━━━━━━━━━━━━━━━\u001b[0m \u001b[32m58.3/58.3 kB\u001b[0m \u001b[31m5.9 MB/s\u001b[0m eta \u001b[36m0:00:00\u001b[0m\n",
            "\u001b[2K     \u001b[90m━━━━━━━━━━━━━━━━━━━━━━━━━━━━━━━━━━━━━━━━\u001b[0m \u001b[32m53.0/53.0 kB\u001b[0m \u001b[31m7.4 MB/s\u001b[0m eta \u001b[36m0:00:00\u001b[0m\n",
            "\u001b[2K     \u001b[90m━━━━━━━━━━━━━━━━━━━━━━━━━━━━━━━━━━━━━━━━\u001b[0m \u001b[32m138.5/138.5 kB\u001b[0m \u001b[31m16.8 MB/s\u001b[0m eta \u001b[36m0:00:00\u001b[0m\n",
            "\u001b[?25h  Building wheel for google-search-results (setup.py) ... \u001b[?25l\u001b[?25hdone\n"
          ]
        }
      ]
    },
    {
      "cell_type": "code",
      "source": [],
      "metadata": {
        "id": "j2HhWVIFocup"
      },
      "execution_count": 2,
      "outputs": []
    },
    {
      "cell_type": "markdown",
      "source": [
        "import os\n",
        "\n",
        "os.environ[\"OPENAI_API_KEY\"] = \"\"  # https://platform.openai.com\n",
        "\n",
        "os.environ['SERPAPI_API_KEY'] = \"\" # https://serpapi.com/\n",
        "\n",
        "Extract the keys from colab stored secrets"
      ],
      "metadata": {
        "id": "LhIpaFnnxh96"
      }
    },
    {
      "cell_type": "code",
      "source": [
        "# @title\n",
        "import os\n",
        "from google.colab import userdata\n",
        "\n",
        "\n",
        "os.environ[\"OPENAI_API_KEY\"] = userdata.get('OPENAI_API_KEY')  # https://platform.openai.com\n",
        "os.environ['SERPAPI_API_KEY'] = userdata.get('SERPAPI_API_KEY')  # https://serpapi.com/"
      ],
      "metadata": {
        "id": "42fJqSHrd2uM"
      },
      "execution_count": 3,
      "outputs": []
    },
    {
      "cell_type": "markdown",
      "source": [
        "#Out of the box agent\n",
        "## LangChain Zero-Shot ReAct Agent\n"
      ],
      "metadata": {
        "id": "TaIso6YJdTfl"
      }
    },
    {
      "cell_type": "code",
      "source": [
        "# import libraries\n",
        "\n",
        "from langchain.agents import load_tools\n",
        "from langchain.agents import initialize_agent\n",
        "from langchain.agents import AgentType\n",
        "from langchain.llms import OpenAI"
      ],
      "metadata": {
        "id": "ip3UtvRxdmnH"
      },
      "execution_count": 4,
      "outputs": []
    },
    {
      "cell_type": "markdown",
      "source": [
        "Now we can configure the LLM, the tools we will use, and the agent that allows us to leverage the ReAct framework together with the LLM and tools. Note that we are using a search API for searching external information and LLM as a math tool.\n",
        "\n"
      ],
      "metadata": {
        "id": "X6WIAupIddFA"
      }
    },
    {
      "cell_type": "markdown",
      "source": [
        "Load the language model (openAPI) we're going to use to control the agent."
      ],
      "metadata": {
        "id": "VxS-N47avH-U"
      }
    },
    {
      "cell_type": "code",
      "source": [
        "llm = OpenAI(temperature=0) # First, let's load the language model we're going to use to control the agent."
      ],
      "metadata": {
        "id": "K2fD8C2TdQI2",
        "colab": {
          "base_uri": "https://localhost:8080/"
        },
        "outputId": "32373835-1812-437c-f90f-caebe70bff14"
      },
      "execution_count": 5,
      "outputs": [
        {
          "output_type": "stream",
          "name": "stderr",
          "text": [
            "/usr/local/lib/python3.10/dist-packages/langchain_core/_api/deprecation.py:117: LangChainDeprecationWarning: The class `langchain_community.llms.openai.OpenAI` was deprecated in langchain-community 0.0.10 and will be removed in 0.2.0. An updated version of the class exists in the langchain-openai package and should be used instead. To use it run `pip install -U langchain-openai` and import as `from langchain_openai import OpenAI`.\n",
            "  warn_deprecated(\n"
          ]
        }
      ]
    },
    {
      "cell_type": "markdown",
      "source": [
        "Load the search tool ... google search"
      ],
      "metadata": {
        "id": "zWS6xFb5vRZu"
      }
    },
    {
      "cell_type": "code",
      "source": [
        "tools = load_tools([\"serpapi\"], llm=llm) #Next, let's load some tools to use."
      ],
      "metadata": {
        "id": "lyhEwtk-e54g"
      },
      "execution_count": 6,
      "outputs": []
    },
    {
      "cell_type": "markdown",
      "source": [
        "##Initialisation\n",
        "Initialize an agent with the tools, the language model, and the type of agent we want to use."
      ],
      "metadata": {
        "id": "PrM2it1jvttG"
      }
    },
    {
      "cell_type": "code",
      "source": [
        "#Finally, let's initialize an agent with the tools, the language model, and the type of agent we want to use.\n",
        "agent = initialize_agent(tools, llm, agent=AgentType.ZERO_SHOT_REACT_DESCRIPTION, verbose=True)"
      ],
      "metadata": {
        "id": "7MhdHI62fDrS",
        "colab": {
          "base_uri": "https://localhost:8080/"
        },
        "outputId": "cf9e9f82-c623-4ee9-f30f-3d65a4674cfc"
      },
      "execution_count": 7,
      "outputs": [
        {
          "output_type": "stream",
          "name": "stderr",
          "text": [
            "/usr/local/lib/python3.10/dist-packages/langchain_core/_api/deprecation.py:117: LangChainDeprecationWarning: The function `initialize_agent` was deprecated in LangChain 0.1.0 and will be removed in 0.2.0. Use Use new agent constructor methods like create_react_agent, create_json_agent, create_structured_chat_agent, etc. instead.\n",
            "  warn_deprecated(\n"
          ]
        }
      ]
    },
    {
      "cell_type": "code",
      "source": [
        "# from langchain.agents import AgentExecutor\n",
        "\n",
        "# agent_executor = AgentExecutor(\n",
        "#     agent=agent,\n",
        "#     tools=tools,\n",
        "#     max_iterations=15,\n",
        "#     max_execution_time=30\n",
        "#     )"
      ],
      "metadata": {
        "id": "T74PBEZMJIn5"
      },
      "execution_count": 12,
      "outputs": []
    },
    {
      "cell_type": "markdown",
      "source": [
        "Once that's configured, we can now run the agent with the desired query/prompt."
      ],
      "metadata": {
        "id": "gMEGTi-MdfHC"
      }
    },
    {
      "cell_type": "code",
      "source": [
        "# agent.run(\"Who is Obama's wife? What is her current age raised to the 0.23 power?\")\n",
        "\n",
        "# LangChainDeprecationWarning: The function `run` was deprecated in LangChain 0.1.0 and will be removed in 0.2.0. Use invoke instead"
      ],
      "metadata": {
        "id": "Ka1RQUR6CdvQ"
      },
      "execution_count": 15,
      "outputs": []
    },
    {
      "cell_type": "code",
      "source": [
        "# agent.invoke(\"Who is Obama's wife? What is her current age raised to the 0.23 power?\")\n",
        "\n",
        "agent.invoke(\"Who is Obama's wife? What is her current age?\")\n"
      ],
      "metadata": {
        "colab": {
          "base_uri": "https://localhost:8080/"
        },
        "id": "hyrfKU4De0W0",
        "outputId": "60034186-c21b-4af1-bd38-35f779814d8d"
      },
      "execution_count": 17,
      "outputs": [
        {
          "output_type": "stream",
          "name": "stdout",
          "text": [
            "\n",
            "\n",
            "\u001b[1m> Entering new AgentExecutor chain...\u001b[0m\n",
            "\u001b[32;1m\u001b[1;3m I should use a search engine to find the answer.\n",
            "Action: Search\n",
            "Action Input: \"Michelle Obama age\"\u001b[0m\n",
            "Observation: \u001b[36;1m\u001b[1;3m60 years\u001b[0m\n",
            "Thought:\u001b[32;1m\u001b[1;3m I should use a search engine to find the answer.\n",
            "Action: Search\n",
            "Action Input: \"Michelle Obama birthday\"\u001b[0m\n",
            "Observation: \u001b[36;1m\u001b[1;3mJanuary 17, 1964\u001b[0m\n",
            "Thought:\u001b[32;1m\u001b[1;3m I now know the final answer.\n",
            "Final Answer: Michelle Obama's current age is 57 years old.\u001b[0m\n",
            "\n",
            "\u001b[1m> Finished chain.\u001b[0m\n"
          ]
        },
        {
          "output_type": "execute_result",
          "data": {
            "text/plain": [
              "{'input': \"Who is Obama's wife? What is her current age?\",\n",
              " 'output': \"Michelle Obama's current age is 57 years old.\"}"
            ]
          },
          "metadata": {},
          "execution_count": 17
        }
      ]
    },
    {
      "cell_type": "code",
      "source": [
        "# agent_executor.invoke(\"Who is Obama's wife? What is her current age raised to the 0.23 power?\")\n"
      ],
      "metadata": {
        "colab": {
          "base_uri": "https://localhost:8080/",
          "height": 287
        },
        "id": "eiDWJxVOdSrW",
        "outputId": "959685e9-c758-4ead-df68-fca4c8cc3136"
      },
      "execution_count": 14,
      "outputs": [
        {
          "output_type": "error",
          "ename": "IndexError",
          "evalue": "list index out of range",
          "traceback": [
            "\u001b[0;31m---------------------------------------------------------------------------\u001b[0m",
            "\u001b[0;31mIndexError\u001b[0m                                Traceback (most recent call last)",
            "\u001b[0;32m<ipython-input-14-182b5763286b>\u001b[0m in \u001b[0;36m<cell line: 1>\u001b[0;34m()\u001b[0m\n\u001b[0;32m----> 1\u001b[0;31m \u001b[0magent_executor\u001b[0m\u001b[0;34m.\u001b[0m\u001b[0minvoke\u001b[0m\u001b[0;34m(\u001b[0m\u001b[0;34m\"Who is Obama's wife? What is her current age raised to the 0.23 power?\"\u001b[0m\u001b[0;34m)\u001b[0m\u001b[0;34m\u001b[0m\u001b[0;34m\u001b[0m\u001b[0m\n\u001b[0m",
            "\u001b[0;32m/usr/local/lib/python3.10/dist-packages/langchain/chains/base.py\u001b[0m in \u001b[0;36minvoke\u001b[0;34m(self, input, config, **kwargs)\u001b[0m\n\u001b[1;32m    131\u001b[0m         \u001b[0mreturn_only_outputs\u001b[0m \u001b[0;34m=\u001b[0m \u001b[0mkwargs\u001b[0m\u001b[0;34m.\u001b[0m\u001b[0mget\u001b[0m\u001b[0;34m(\u001b[0m\u001b[0;34m\"return_only_outputs\"\u001b[0m\u001b[0;34m,\u001b[0m \u001b[0;32mFalse\u001b[0m\u001b[0;34m)\u001b[0m\u001b[0;34m\u001b[0m\u001b[0;34m\u001b[0m\u001b[0m\n\u001b[1;32m    132\u001b[0m \u001b[0;34m\u001b[0m\u001b[0m\n\u001b[0;32m--> 133\u001b[0;31m         \u001b[0minputs\u001b[0m \u001b[0;34m=\u001b[0m \u001b[0mself\u001b[0m\u001b[0;34m.\u001b[0m\u001b[0mprep_inputs\u001b[0m\u001b[0;34m(\u001b[0m\u001b[0minput\u001b[0m\u001b[0;34m)\u001b[0m\u001b[0;34m\u001b[0m\u001b[0;34m\u001b[0m\u001b[0m\n\u001b[0m\u001b[1;32m    134\u001b[0m         callback_manager = CallbackManager.configure(\n\u001b[1;32m    135\u001b[0m             \u001b[0mcallbacks\u001b[0m\u001b[0;34m,\u001b[0m\u001b[0;34m\u001b[0m\u001b[0;34m\u001b[0m\u001b[0m\n",
            "\u001b[0;32m/usr/local/lib/python3.10/dist-packages/langchain/chains/base.py\u001b[0m in \u001b[0;36mprep_inputs\u001b[0;34m(self, inputs)\u001b[0m\n\u001b[1;32m    477\u001b[0m                 \u001b[0;31m# only one is not set, we can still figure out which key it is.\u001b[0m\u001b[0;34m\u001b[0m\u001b[0;34m\u001b[0m\u001b[0m\n\u001b[1;32m    478\u001b[0m                 \u001b[0m_input_keys\u001b[0m \u001b[0;34m=\u001b[0m \u001b[0m_input_keys\u001b[0m\u001b[0;34m.\u001b[0m\u001b[0mdifference\u001b[0m\u001b[0;34m(\u001b[0m\u001b[0mself\u001b[0m\u001b[0;34m.\u001b[0m\u001b[0mmemory\u001b[0m\u001b[0;34m.\u001b[0m\u001b[0mmemory_variables\u001b[0m\u001b[0;34m)\u001b[0m\u001b[0;34m\u001b[0m\u001b[0;34m\u001b[0m\u001b[0m\n\u001b[0;32m--> 479\u001b[0;31m             \u001b[0minputs\u001b[0m \u001b[0;34m=\u001b[0m \u001b[0;34m{\u001b[0m\u001b[0mlist\u001b[0m\u001b[0;34m(\u001b[0m\u001b[0m_input_keys\u001b[0m\u001b[0;34m)\u001b[0m\u001b[0;34m[\u001b[0m\u001b[0;36m0\u001b[0m\u001b[0;34m]\u001b[0m\u001b[0;34m:\u001b[0m \u001b[0minputs\u001b[0m\u001b[0;34m}\u001b[0m\u001b[0;34m\u001b[0m\u001b[0;34m\u001b[0m\u001b[0m\n\u001b[0m\u001b[1;32m    480\u001b[0m         \u001b[0;32mif\u001b[0m \u001b[0mself\u001b[0m\u001b[0;34m.\u001b[0m\u001b[0mmemory\u001b[0m \u001b[0;32mis\u001b[0m \u001b[0;32mnot\u001b[0m \u001b[0;32mNone\u001b[0m\u001b[0;34m:\u001b[0m\u001b[0;34m\u001b[0m\u001b[0;34m\u001b[0m\u001b[0m\n\u001b[1;32m    481\u001b[0m             \u001b[0mexternal_context\u001b[0m \u001b[0;34m=\u001b[0m \u001b[0mself\u001b[0m\u001b[0;34m.\u001b[0m\u001b[0mmemory\u001b[0m\u001b[0;34m.\u001b[0m\u001b[0mload_memory_variables\u001b[0m\u001b[0;34m(\u001b[0m\u001b[0minputs\u001b[0m\u001b[0;34m)\u001b[0m\u001b[0;34m\u001b[0m\u001b[0;34m\u001b[0m\u001b[0m\n",
            "\u001b[0;31mIndexError\u001b[0m: list index out of range"
          ]
        }
      ]
    },
    {
      "cell_type": "code",
      "execution_count": 18,
      "metadata": {
        "id": "0Z-Vm2mYo0ds"
      },
      "outputs": [],
      "source": [
        "from langchain.agents import ZeroShotAgent, Tool, AgentExecutor\n",
        "from langchain import OpenAI, SerpAPIWrapper, LLMChain\n",
        "\n",
        "search = SerpAPIWrapper()\n",
        "tools = [\n",
        "   Tool(\n",
        "       name=\"Search\",\n",
        "       func=search.run,\n",
        "       description=\"useful for when you need to answer questions about current events\",\n",
        "   )\n",
        "]\n",
        "\n",
        "\n"
      ]
    },
    {
      "cell_type": "markdown",
      "source": [
        "#Custom agent\n",
        "## LangChain Zero-Shot ReAct Agent"
      ],
      "metadata": {
        "id": "iDHiAI9rfTA5"
      }
    },
    {
      "cell_type": "code",
      "source": [
        "\n",
        "prefix = \"\"\"Answer the following questions as best you can, but do it in old Shakepearean English. You have access to the following tools:\"\"\"\n",
        "suffix = \"\"\"Begin! Remember to speak in old Shakepearean English in the final answer. Use the words \"behold\" at least once.\n",
        "\n",
        "Question: {input}\n",
        "{agent_scratchpad}\"\"\"\n",
        "\n",
        "\n"
      ],
      "metadata": {
        "id": "2Bys_nGNd0hZ"
      },
      "execution_count": 19,
      "outputs": []
    },
    {
      "cell_type": "code",
      "source": [
        "prompt = ZeroShotAgent.create_prompt(\n",
        "   tools, prefix=prefix, suffix=suffix, input_variables=[\"input\", \"agent_scratchpad\"]\n",
        ")"
      ],
      "metadata": {
        "id": "jEKaC6jBeN7Z"
      },
      "execution_count": 20,
      "outputs": []
    },
    {
      "cell_type": "code",
      "source": [
        "print(prompt.template)\n"
      ],
      "metadata": {
        "colab": {
          "base_uri": "https://localhost:8080/"
        },
        "id": "Lt5t5tQSdt81",
        "outputId": "d41f62ce-a3ee-4fc5-85c6-e7f1a82b9759"
      },
      "execution_count": 21,
      "outputs": [
        {
          "output_type": "stream",
          "name": "stdout",
          "text": [
            "Answer the following questions as best you can, but do it in old Shakepearean English. You have access to the following tools:\n",
            "\n",
            "Search: useful for when you need to answer questions about current events\n",
            "\n",
            "Use the following format:\n",
            "\n",
            "Question: the input question you must answer\n",
            "Thought: you should always think about what to do\n",
            "Action: the action to take, should be one of [Search]\n",
            "Action Input: the input to the action\n",
            "Observation: the result of the action\n",
            "... (this Thought/Action/Action Input/Observation can repeat N times)\n",
            "Thought: I now know the final answer\n",
            "Final Answer: the final answer to the original input question\n",
            "\n",
            "Begin! Remember to speak in old Shakepearean English in the final answer. Use the words \"behold\" at least once.\n",
            "\n",
            "Question: {input}\n",
            "{agent_scratchpad}\n"
          ]
        }
      ]
    },
    {
      "cell_type": "markdown",
      "source": [
        "Note that we are able to feed agents a self-defined prompt template, i.e. not restricted to the prompt generated by the create_prompt function, assuming it meets the agent's requirements.\n",
        "\n",
        "For example, for ZeroShotAgent, we will need to ensure that it meets the following requirements. There should a string starting with \"Action:\" and a following string starting with \"Action Input:\", and both should be separated by a newline.\n",
        "\n"
      ],
      "metadata": {
        "id": "OsyEeZ6OeX1C"
      }
    },
    {
      "cell_type": "code",
      "source": [
        "llm_chain = LLMChain(llm=OpenAI(temperature=0), prompt=prompt)\n",
        "\n"
      ],
      "metadata": {
        "id": "S6-Aq7HgeXR0"
      },
      "execution_count": 22,
      "outputs": []
    },
    {
      "cell_type": "code",
      "source": [
        "tool_names = [tool.name for tool in tools]\n",
        "agent = ZeroShotAgent(llm_chain=llm_chain, allowed_tools=tool_names)\n"
      ],
      "metadata": {
        "id": "y0pdYLQ5ehTt",
        "colab": {
          "base_uri": "https://localhost:8080/"
        },
        "outputId": "d5790a54-a834-412d-af91-3d861ac1daba"
      },
      "execution_count": 23,
      "outputs": [
        {
          "output_type": "stream",
          "name": "stderr",
          "text": [
            "/usr/local/lib/python3.10/dist-packages/langchain_core/_api/deprecation.py:117: LangChainDeprecationWarning: The class `langchain.agents.mrkl.base.ZeroShotAgent` was deprecated in langchain 0.1.0 and will be removed in 0.2.0. Use create_react_agent instead.\n",
            "  warn_deprecated(\n"
          ]
        }
      ]
    },
    {
      "cell_type": "code",
      "source": [
        "\n",
        "agent_executor = AgentExecutor.from_agent_and_tools(\n",
        "    agent=agent, tools=tools, verbose=True\n",
        ")"
      ],
      "metadata": {
        "id": "a-oVk4cPePhC"
      },
      "execution_count": 24,
      "outputs": []
    },
    {
      "cell_type": "code",
      "source": [
        "# agent_executor.run(\"How many hurricanes are expected to make landfall in the US this year?\")\n",
        "\n",
        "agent_executor.run(\"How is the kenyan currency expected to perform against the US dollar this year?\")"
      ],
      "metadata": {
        "colab": {
          "base_uri": "https://localhost:8080/",
          "height": 576
        },
        "id": "wekAcwuTekGc",
        "outputId": "740979fd-6327-4f83-9d56-4c2ed9b72fcd"
      },
      "execution_count": 26,
      "outputs": [
        {
          "output_type": "stream",
          "name": "stdout",
          "text": [
            "\n",
            "\n",
            "\u001b[1m> Entering new AgentExecutor chain...\u001b[0m\n",
            "\u001b[32;1m\u001b[1;3mThought: I must search for the latest news on the kenyan currency\n",
            "Action: Search\n",
            "Action Input: kenyan currency\u001b[0m\n",
            "Observation: \u001b[36;1m\u001b[1;3m0.0073 United States Dollar\u001b[0m\n",
            "Thought:\u001b[32;1m\u001b[1;3m I must search for the latest news on the US dollar\n",
            "Action: Search\n",
            "Action Input: US dollar\u001b[0m\n",
            "Observation: \u001b[36;1m\u001b[1;3m[{'title': 'US dollar poised for biggest weekly gain since mid-January; yen falls ahead of BOJ', 'link': 'https://www.reuters.com/markets/currencies/dollar-advances-us-inflation-data-weighs-rates-outlook-2024-03-15/', 'source': 'Reuters', 'date': '19 hours ago', 'thumbnail': 'https://serpapi.com/searches/65f5a53966d81ffe12020b86/images/6565bd4c5e235506d351883c8086fe8f886acde0cba64041.jpeg'}, {'title': 'BRICS: Treasury Secretary Predicts Fall of US Dollar As Reserve Currency', 'link': 'https://watcher-guru.webpkgcache.com/doc/-/s/watcher.guru/news/brics-treasury-secretary-predicts-fall-of-us-dollar-as-reserve-currency', 'source': 'Watcher Guru', 'date': '1 day ago', 'thumbnail': 'https://serpapi.com/searches/65f5a53966d81ffe12020b86/images/6565bd4c5e23550635e47edfa57c7243037c52e2df57a795.jpeg'}, {'title': 'Kenya Shilling (USD/KES) Is Best in World After Eurobond Sale', 'link': 'https://www.bloomberg.com/news/articles/2024-03-14/the-shilling-usd-kes-is-the-best-in-the-world-after-that-eurobond-issuance', 'source': 'Bloomberg', 'date': '2 days ago', 'thumbnail': 'https://serpapi.com/searches/65f5a53966d81ffe12020b86/images/6565bd4c5e235506df33748c0b51d6f5cc17a09a97a26ade.png'}, {'title': 'Mexican Peso depreciates as US producer inflation rise lifts USD', 'link': 'https://www.fxstreet.com/news/mexican-peso-dips-slightly-as-strong-us-economic-data-boosts-us-dollar-202403141556', 'source': 'FXStreet', 'date': '1 day ago', 'thumbnail': 'https://serpapi.com/searches/65f5a53966d81ffe12020b86/images/6565bd4c5e235506710073e68d9f3f627562dc5c1e96822f.jpeg'}]\u001b[0m\n",
            "Thought:\u001b[32;1m\u001b[1;3m I must read through the news articles to find the answer\n",
            "Action: Read\n",
            "Action Input: news articles\u001b[0m\n",
            "Observation: Read is not a valid tool, try one of [Search].\n",
            "Thought:\u001b[32;1m\u001b[1;3m I must search for the latest news on the US dollar and its performance against other currencies\n",
            "Action: Search\n",
            "Action Input: US dollar performance\u001b[0m\n",
            "Observation: \u001b[36;1m\u001b[1;3m['... 103.49; 52 Week Range 99.58 - 107.35. Performance. 5 Day. 0.71%. 1 Month. -0.81%. 3 Month. 0.87%. YTD. 2.09%. 1 Year. -0.25%. Recent News. MarketWatch. Dow ...', 'Get ICE U.S. Dollar Index (.DXY:Exchange) real-time stock quotes, news, price and financial information from CNBC.', \"The dollar index (DXY00) on Friday rose by +0.07% and posted a 1-week high. Strength in T-note yields Friday supported the dollar on Friday's hawkish US Feb ...\", 'U.S. Dollar Index (DXY) advanced index charts by MarketWatch. View real-time DXY index data and compare to other exchanges and stocks.', 'U.S. Dollar Index (DXY) ; Open. 102.82. Previous Close102.87 ; YTD Change. 1.57%. 12 Month Change. -0.65% ; Day Range · 52 Wk Range99.58 - 107.35.', \"“When the dollar strengthens, it means more foreign money is flowing into the U.S. than the other way around.” The dollar's solid performance at ...\", 'View live U.S. Dollar Index chart to track latest price changes. TVC:DXY trade ideas, forecasts and market news are at your disposal as well.', 'The U.S. dollar is down from its peak in 2022\\u200b\\u200b Daily data as of 1/8/2024. Past performance is no guarantee of future results.', 'The US Dollar Index, also known as DXY, is used by traders seeking a measure of the value of USD against a basket of currencies used by US trade partners. The ...']\u001b[0m\n",
            "Thought:\u001b[32;1m\u001b[1;3m I must read through the news articles to find the answer\n",
            "Action: Read\n",
            "Action Input: news articles\u001b[0m\n",
            "Observation: Read is not a valid tool, try one of [Search].\n",
            "Thought:\u001b[32;1m\u001b[1;3m I now know the final answer\n",
            "Final Answer: Behold, the US dollar is expected to perform well against other currencies this year, with a 0.71% increase in the past 5 days and a 2.09% increase year-to-date. However, the Kenyan currency has also been performing well, with the shilling being the best in the world after a recent Eurobond sale. The US dollar index has also been rising, with strength in T-note yields and a hawkish US February report. It is important to note that past performance is not a guarantee of future results.\u001b[0m\n",
            "\n",
            "\u001b[1m> Finished chain.\u001b[0m\n"
          ]
        },
        {
          "output_type": "execute_result",
          "data": {
            "text/plain": [
              "'Behold, the US dollar is expected to perform well against other currencies this year, with a 0.71% increase in the past 5 days and a 2.09% increase year-to-date. However, the Kenyan currency has also been performing well, with the shilling being the best in the world after a recent Eurobond sale. The US dollar index has also been rising, with strength in T-note yields and a hawkish US February report. It is important to note that past performance is not a guarantee of future results.'"
            ],
            "application/vnd.google.colaboratory.intrinsic+json": {
              "type": "string"
            }
          },
          "metadata": {},
          "execution_count": 26
        }
      ]
    },
    {
      "cell_type": "code",
      "source": [],
      "metadata": {
        "id": "JKmUZY6Wev52"
      },
      "execution_count": null,
      "outputs": []
    }
  ]
}